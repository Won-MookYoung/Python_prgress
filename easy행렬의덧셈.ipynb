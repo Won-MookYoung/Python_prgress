{
 "cells": [
  {
   "cell_type": "code",
   "execution_count": 1,
   "metadata": {},
   "outputs": [
    {
     "data": {
      "text/plain": [
       "[[1, 2, 3], [1, 4, 5], [1, 2, 3], [1, 2, 3]]"
      ]
     },
     "execution_count": 1,
     "metadata": {},
     "output_type": "execute_result"
    }
   ],
   "source": [
    "[[1,2,3],[1,4,5]]+[[1,2,3],[1,2,3]]"
   ]
  },
  {
   "cell_type": "code",
   "execution_count": 88,
   "metadata": {},
   "outputs": [],
   "source": [
    "a=[[1,2,3],[1,4,5]]\n",
    "b=[[1,2,3],[1,2,3]]"
   ]
  },
  {
   "cell_type": "code",
   "execution_count": 11,
   "metadata": {},
   "outputs": [],
   "source": [
    "a[0][0]=a[0][0]+1"
   ]
  },
  {
   "cell_type": "code",
   "execution_count": 23,
   "metadata": {},
   "outputs": [
    {
     "data": {
      "text/plain": [
       "2"
      ]
     },
     "execution_count": 23,
     "metadata": {},
     "output_type": "execute_result"
    }
   ],
   "source": [
    "len(a)"
   ]
  },
  {
   "cell_type": "code",
   "execution_count": 26,
   "metadata": {},
   "outputs": [
    {
     "ename": "TypeError",
     "evalue": "object of type 'int' has no len()",
     "output_type": "error",
     "traceback": [
      "\u001b[1;31m---------------------------------------------------------------------------\u001b[0m",
      "\u001b[1;31mTypeError\u001b[0m                                 Traceback (most recent call last)",
      "\u001b[1;32mc:\\alpa\\프로그래스연습\\ㅁㄴㅇㅁㄴㅇ.ipynb Cell 5'\u001b[0m in \u001b[0;36m<cell line: 2>\u001b[1;34m()\u001b[0m\n\u001b[0;32m      <a href='vscode-notebook-cell:/c%3A/alpa/%ED%94%84%EB%A1%9C%EA%B7%B8%EB%9E%98%EC%8A%A4%EC%97%B0%EC%8A%B5/%E3%85%81%E3%84%B4%E3%85%87%E3%85%81%E3%84%B4%E3%85%87.ipynb#ch0000003?line=0'>1</a>\u001b[0m answer \u001b[39m=\u001b[39m [[]]\n\u001b[0;32m      <a href='vscode-notebook-cell:/c%3A/alpa/%ED%94%84%EB%A1%9C%EA%B7%B8%EB%9E%98%EC%8A%A4%EC%97%B0%EC%8A%B5/%E3%85%81%E3%84%B4%E3%85%87%E3%85%81%E3%84%B4%E3%85%87.ipynb#ch0000003?line=1'>2</a>\u001b[0m \u001b[39mfor\u001b[39;00m i \u001b[39min\u001b[39;00m \u001b[39mrange\u001b[39m(\u001b[39mlen\u001b[39m(a)):\n\u001b[1;32m----> <a href='vscode-notebook-cell:/c%3A/alpa/%ED%94%84%EB%A1%9C%EA%B7%B8%EB%9E%98%EC%8A%A4%EC%97%B0%EC%8A%B5/%E3%85%81%E3%84%B4%E3%85%87%E3%85%81%E3%84%B4%E3%85%87.ipynb#ch0000003?line=2'>3</a>\u001b[0m     \u001b[39mfor\u001b[39;00m j \u001b[39min\u001b[39;00m \u001b[39mrange\u001b[39m(\u001b[39mlen\u001b[39;49m(i)):\n\u001b[0;32m      <a href='vscode-notebook-cell:/c%3A/alpa/%ED%94%84%EB%A1%9C%EA%B7%B8%EB%9E%98%EC%8A%A4%EC%97%B0%EC%8A%B5/%E3%85%81%E3%84%B4%E3%85%87%E3%85%81%E3%84%B4%E3%85%87.ipynb#ch0000003?line=3'>4</a>\u001b[0m         answer\u001b[39m.\u001b[39mappend(a[i][j]\u001b[39m+\u001b[39mb[i][j])\n",
      "\u001b[1;31mTypeError\u001b[0m: object of type 'int' has no len()"
     ]
    }
   ],
   "source": [
    "answer = [[]]\n",
    "for i in range(len(a)):\n",
    "    for j in range(len(i)):\n",
    "        answer.append(a[i][j]+b[i][j])\n"
   ]
  },
  {
   "cell_type": "code",
   "execution_count": null,
   "metadata": {},
   "outputs": [],
   "source": [
    "a=[[1,2,3],[1,4,5]]\n",
    "b=[[1,2,3],[1,2,3]]"
   ]
  },
  {
   "cell_type": "code",
   "execution_count": 125,
   "metadata": {},
   "outputs": [
    {
     "name": "stdout",
     "output_type": "stream",
     "text": [
      "[1, 2, 3]\n",
      "1+1=2\n",
      "2+2=4\n",
      "3+3=6\n",
      "[1, 4, 5]\n",
      "1+1=2\n",
      "4+2=6\n",
      "5+3=8\n",
      "[[2, 4, 6], [2, 2, 6, 8], [4], [6], [2], [6], [8]]\n"
     ]
    }
   ],
   "source": [
    "answer=[[]]\n",
    "for i in range(len(a)):\n",
    "    print(a[i])\n",
    "    for j in range(len(a[i])):\n",
    "        print('{}+{}={}'.format(a[i][j],b[i][j],a[i][j]+b[i][j]))\n",
    "        answer[i].append(a[i][j]+b[i][j])\n",
    "    \n",
    "        answer.append([a[i][j]+b[i][j]])\n",
    "print( answer)"
   ]
  },
  {
   "cell_type": "code",
   "execution_count": 126,
   "metadata": {},
   "outputs": [],
   "source": [
    "a=[[1,2,3],[1,4,5]]\n",
    "b=[[1,2,3],[4,5,6]]"
   ]
  },
  {
   "cell_type": "code",
   "execution_count": 148,
   "metadata": {},
   "outputs": [
    {
     "name": "stdout",
     "output_type": "stream",
     "text": [
      "[[2, 4, 6], [5, 9, 11]]\n"
     ]
    }
   ],
   "source": [
    "answer=[]\n",
    "total=[]\n",
    "for i in range(len(a)):\n",
    "    for j in range(len(a[i])):\n",
    "        answer.append(a[i][j]+b[i][j])\n",
    "    \n",
    "answer1=answer[:int(len(answer)/2)]\n",
    "answer2=answer[int(len(answer)/2):]\n",
    "total=[answer1]+[answer2]        \n",
    "print(total)"
   ]
  },
  {
   "cell_type": "code",
   "execution_count": 164,
   "metadata": {},
   "outputs": [],
   "source": [
    "def solution(arr1,arr2):\n",
    "    answer=[]\n",
    "    total=[]\n",
    "    for i in range(len(arr1)):\n",
    "        for j in range(len(arr1[i])):\n",
    "            answer.append(arr1[i][j]+arr2[i][j])\n",
    "    answer1= answer[:int(len(answer)/2)]\n",
    "    answer2=answer[int(len(answer)/2):]\n",
    "    total=[answer1]+[answer2]        \n",
    "    return total\n",
    "\n"
   ]
  },
  {
   "cell_type": "code",
   "execution_count": 165,
   "metadata": {},
   "outputs": [
    {
     "name": "stdout",
     "output_type": "stream",
     "text": [
      "[[4, 6, 4, 6, 8], [7, 9, 12, 14, 16]]\n",
      "[[4], [6]]\n"
     ]
    }
   ],
   "source": [
    "print(solution([[1,2,3,4,5],[2,3,5,6,7]],[[3,4,1,2,3],[5,6,7,8,9]]))\n",
    "print(solution([[1],[2]],[[3],[4]]))\n"
   ]
  },
  {
   "cell_type": "code",
   "execution_count": 73,
   "metadata": {},
   "outputs": [],
   "source": [
    "answer.append([3,5])"
   ]
  },
  {
   "cell_type": "code",
   "execution_count": 60,
   "metadata": {},
   "outputs": [
    {
     "name": "stdout",
     "output_type": "stream",
     "text": [
      "None\n"
     ]
    }
   ],
   "source": [
    "print(b)"
   ]
  },
  {
   "cell_type": "code",
   "execution_count": 87,
   "metadata": {},
   "outputs": [
    {
     "data": {
      "text/plain": [
       "[[]]"
      ]
     },
     "execution_count": 87,
     "metadata": {},
     "output_type": "execute_result"
    }
   ],
   "source": [
    "answer"
   ]
  },
  {
   "cell_type": "code",
   "execution_count": 130,
   "metadata": {},
   "outputs": [
    {
     "data": {
      "text/plain": [
       "[[1, 2], [1, 2]]"
      ]
     },
     "execution_count": 130,
     "metadata": {},
     "output_type": "execute_result"
    }
   ],
   "source": [
    "asdasd=[[]]\n",
    "asdasd[0].append(1)\n",
    "asdasd[0].append(2)\n",
    "asdasd.append([1,2])\n",
    "asdasd"
   ]
  },
  {
   "cell_type": "code",
   "execution_count": 144,
   "metadata": {},
   "outputs": [
    {
     "data": {
      "text/plain": [
       "[1, 2, 3]"
      ]
     },
     "execution_count": 144,
     "metadata": {},
     "output_type": "execute_result"
    }
   ],
   "source": [
    "qasda=[1,2,3,4,5,6]\n",
    "qasda[:int(len(qasda)/2)]"
   ]
  },
  {
   "cell_type": "code",
   "execution_count": 143,
   "metadata": {},
   "outputs": [
    {
     "data": {
      "text/plain": [
       "3.0"
      ]
     },
     "execution_count": 143,
     "metadata": {},
     "output_type": "execute_result"
    }
   ],
   "source": [
    "len(qasda)/2"
   ]
  },
  {
   "cell_type": "code",
   "execution_count": 5,
   "metadata": {},
   "outputs": [],
   "source": [
    "# 이거\n",
    "def solution(arr1,arr2):\n",
    "    answer=[]\n",
    "    for i in range(len(arr1)):\n",
    "        answer.append([])\n",
    "        for j in range(len(arr1[i])):\n",
    "            answer[-1].append(arr1[i][j]+arr2[i][j])\n",
    "            \n",
    "    return answer"
   ]
  },
  {
   "cell_type": "code",
   "execution_count": 4,
   "metadata": {},
   "outputs": [
    {
     "data": {
      "text/plain": [
       "[[4, 6], [7, 9]]"
      ]
     },
     "execution_count": 4,
     "metadata": {},
     "output_type": "execute_result"
    }
   ],
   "source": [
    "solution([[1,2],[2,3]],[[3,4],[5,6]])"
   ]
  },
  {
   "cell_type": "code",
   "execution_count": null,
   "metadata": {},
   "outputs": [],
   "source": []
  }
 ],
 "metadata": {
  "kernelspec": {
   "display_name": "Python 3.10.5 64-bit",
   "language": "python",
   "name": "python3"
  },
  "language_info": {
   "codemirror_mode": {
    "name": "ipython",
    "version": 3
   },
   "file_extension": ".py",
   "mimetype": "text/x-python",
   "name": "python",
   "nbconvert_exporter": "python",
   "pygments_lexer": "ipython3",
   "version": "3.10.5"
  },
  "orig_nbformat": 4,
  "vscode": {
   "interpreter": {
    "hash": "26de051ba29f2982a8de78e945f0abaf191376122a1563185a90213a26c5da77"
   }
  }
 },
 "nbformat": 4,
 "nbformat_minor": 2
}
