{
 "cells": [
  {
   "cell_type": "code",
   "execution_count": 1,
   "metadata": {},
   "outputs": [
    {
     "name": "stdout",
     "output_type": "stream",
     "text": [
      "one2three4\n",
      "one2three4\n",
      "one2three4\n",
      "one2three4\n",
      "one2three4\n",
      "one2three4\n",
      "one2three4\n",
      "one2three4\n",
      "one2three4\n"
     ]
    },
    {
     "ename": "IndexError",
     "evalue": "string index out of range",
     "output_type": "error",
     "traceback": [
      "\u001b[1;31m---------------------------------------------------------------------------\u001b[0m",
      "\u001b[1;31mIndexError\u001b[0m                                Traceback (most recent call last)",
      "\u001b[1;32mc:\\alpa\\프로그래스연습\\easy숫자문자열.ipynb Cell 1'\u001b[0m in \u001b[0;36m<cell line: 15>\u001b[1;34m()\u001b[0m\n\u001b[0;32m     <a href='vscode-notebook-cell:/c%3A/alpa/%ED%94%84%EB%A1%9C%EA%B7%B8%EB%9E%98%EC%8A%A4%EC%97%B0%EC%8A%B5/easy%EC%88%AB%EC%9E%90%EB%AC%B8%EC%9E%90%EC%97%B4.ipynb#ch0000000?line=16'>17</a>\u001b[0m     a\u001b[39m=\u001b[39ma\u001b[39m+\u001b[39mkeyword[i]\n\u001b[0;32m     <a href='vscode-notebook-cell:/c%3A/alpa/%ED%94%84%EB%A1%9C%EA%B7%B8%EB%9E%98%EC%8A%A4%EC%97%B0%EC%8A%B5/easy%EC%88%AB%EC%9E%90%EB%AC%B8%EC%9E%90%EC%97%B4.ipynb#ch0000000?line=17'>18</a>\u001b[0m \u001b[39melse\u001b[39;00m:\n\u001b[0;32m     <a href='vscode-notebook-cell:/c%3A/alpa/%ED%94%84%EB%A1%9C%EA%B7%B8%EB%9E%98%EC%8A%A4%EC%97%B0%EC%8A%B5/easy%EC%88%AB%EC%9E%90%EB%AC%B8%EC%9E%90%EC%97%B4.ipynb#ch0000000?line=18'>19</a>\u001b[0m     \u001b[39m# if keyword[i]+keyword[i+1]+keyword[i+2] in alpha:\u001b[39;00m\n\u001b[0;32m     <a href='vscode-notebook-cell:/c%3A/alpa/%ED%94%84%EB%A1%9C%EA%B7%B8%EB%9E%98%EC%8A%A4%EC%97%B0%EC%8A%B5/easy%EC%88%AB%EC%9E%90%EB%AC%B8%EC%9E%90%EC%97%B4.ipynb#ch0000000?line=19'>20</a>\u001b[0m     \u001b[39m#     if keyword[i]+keyword[i+1]+keyword[i+2]=='one':\u001b[39;00m\n\u001b[1;32m   (...)\u001b[0m\n\u001b[0;32m     <a href='vscode-notebook-cell:/c%3A/alpa/%ED%94%84%EB%A1%9C%EA%B7%B8%EB%9E%98%EC%8A%A4%EC%97%B0%EC%8A%B5/easy%EC%88%AB%EC%9E%90%EB%AC%B8%EC%9E%90%EC%97%B4.ipynb#ch0000000?line=39'>40</a>\u001b[0m     \u001b[39m#     elif keyword[i]+keyword[i+1]+keyword[i+2]+keyword[i+3]+keyword[i+4]=='eight':\u001b[39;00m\n\u001b[0;32m     <a href='vscode-notebook-cell:/c%3A/alpa/%ED%94%84%EB%A1%9C%EA%B7%B8%EB%9E%98%EC%8A%A4%EC%97%B0%EC%8A%B5/easy%EC%88%AB%EC%9E%90%EB%AC%B8%EC%9E%90%EC%97%B4.ipynb#ch0000000?line=40'>41</a>\u001b[0m     \u001b[39m#         a=a+8\u001b[39;00m\n\u001b[1;32m---> <a href='vscode-notebook-cell:/c%3A/alpa/%ED%94%84%EB%A1%9C%EA%B7%B8%EB%9E%98%EC%8A%A4%EC%97%B0%EC%8A%B5/easy%EC%88%AB%EC%9E%90%EB%AC%B8%EC%9E%90%EC%97%B4.ipynb#ch0000000?line=41'>42</a>\u001b[0m     a\u001b[39m=\u001b[39ma\u001b[39m+\u001b[39mkeyword[i\u001b[39m+\u001b[39;49m\u001b[39m1\u001b[39;49m]\n\u001b[0;32m     <a href='vscode-notebook-cell:/c%3A/alpa/%ED%94%84%EB%A1%9C%EA%B7%B8%EB%9E%98%EC%8A%A4%EC%97%B0%EC%8A%B5/easy%EC%88%AB%EC%9E%90%EB%AC%B8%EC%9E%90%EC%97%B4.ipynb#ch0000000?line=42'>43</a>\u001b[0m \u001b[39mprint\u001b[39m(keyword)\n",
      "\u001b[1;31mIndexError\u001b[0m: string index out of range"
     ]
    }
   ],
   "source": [
    "# keyword= input()\n",
    "\n",
    "#   1<= S <=50 \n",
    "# S[0]!= zeor , 0\n",
    "\n",
    "# return len[s] >=1 or len[s]<2,000,000,000\n",
    "\n",
    "# dicta={0:'zero',1:'one',2:'two',3:'three',4:'four',5:'five',6:'six',7:'seven',8:'eight',9:'nine'}\n",
    "\n",
    "# alpha=list(dicta.values())\n",
    "# num=list(dicta.keys())\n",
    "\n",
    "# a=''\n",
    "# keyword='one2three4'\n",
    "# for i in range(len(keyword)):\n",
    "#     if keyword[i-1] in num:\n",
    "#         a=a+keyword[i]\n",
    "#     else:\n",
    "        # if keyword[i]+keyword[i+1]+keyword[i+2] in alpha:\n",
    "        #     if keyword[i]+keyword[i+1]+keyword[i+2]=='one':\n",
    "        #         a=a+1\n",
    "        #     elif keyword[i]+keyword[i+1]+keyword[i+2]=='two':\n",
    "        #         a=a+2\n",
    "        #     elif keyword[i]+keyword[i+1]+keyword[i+2]=='six':\n",
    "        #         a=a+6\n",
    "        # elif keyword[i]+keyword[i+1]+keyword[i+2]+keyword[i+3] in alpha:\n",
    "        #     if keyword[i]+keyword[i+1]+keyword[i+2]+keyword[i+3]=='zero':\n",
    "        #         a=a+0\n",
    "        #     elif keyword[i]+keyword[i+1]+keyword[i+2]+keyword[i+3]=='four':\n",
    "        #         a=a+4\n",
    "        #     elif keyword[i]+keyword[i+1]+keyword[i+2]+keyword[i+3]=='five':\n",
    "        #         a=a+5\n",
    "        #     elif keyword[i]+keyword[i+1]+keyword[i+2]+keyword[i+3]== 'nine':\n",
    "        #         a=a+9\n",
    "        # elif keyword[i]+keyword[i+1]+keyword[i+2]+keyword[i+3]+keyword[i+4] in alpha:\n",
    "        #     if keyword[i]+keyword[i+1]+keyword[i+2]+keyword[i+3]+keyword[i+4]=='three':\n",
    "        #         a=a+3\n",
    "        #     elif keyword[i]+keyword[i+1]+keyword[i+2]+keyword[i+3]+keyword[i+4]=='seven':\n",
    "        #         a=a+7\n",
    "        #     elif keyword[i]+keyword[i+1]+keyword[i+2]+keyword[i+3]+keyword[i+4]=='eight':\n",
    "        #         a=a+8\n",
    "    #     a=a+keyword[i+1]\n",
    "    # print(keyword)\n",
    "            \n",
    "\n"
   ]
  },
  {
   "cell_type": "code",
   "execution_count": 2,
   "metadata": {},
   "outputs": [
    {
     "name": "stdout",
     "output_type": "stream",
     "text": [
      "['0', '1', '2', '3', '4', '5', '6', '7', '8', '9']\n"
     ]
    },
    {
     "data": {
      "text/plain": [
       "str"
      ]
     },
     "execution_count": 2,
     "metadata": {},
     "output_type": "execute_result"
    }
   ],
   "source": [
    "# a=[]\n",
    "# for i in num:\n",
    "#     a+=[str(i)]\n",
    "\n",
    "# print(a)\n",
    "# type(a[0])"
   ]
  },
  {
   "cell_type": "code",
   "execution_count": 3,
   "metadata": {},
   "outputs": [
    {
     "ename": "IndentationError",
     "evalue": "expected an indented block after 'else' statement on line 13 (2480516998.py, line 15)",
     "output_type": "error",
     "traceback": [
      "\u001b[1;36m  Input \u001b[1;32mIn [3]\u001b[1;36m\u001b[0m\n\u001b[1;33m    print(abc)\u001b[0m\n\u001b[1;37m              ^\u001b[0m\n\u001b[1;31mIndentationError\u001b[0m\u001b[1;31m:\u001b[0m expected an indented block after 'else' statement on line 13\n"
     ]
    }
   ],
   "source": [
    "# dicta={'0':'zero','1':'one','2':'two','3':'three','4':'four','5':'five','6':'six','7':'seven','8':'eight','9':'nine'}\n",
    "\n",
    "# alpha=list(dicta.values())\n",
    "# num=list(dicta.keys())\n",
    "\n",
    "# keyword=input()\n",
    "# abc=''\n",
    "# ccc=''\n",
    "# for i in keyword[0:len(keyword)]:\n",
    "#     if i in num:\n",
    "#         abc+=i\n",
    "        \n",
    "#     else:\n",
    "        \n",
    "# print(abc)"
   ]
  },
  {
   "cell_type": "code",
   "execution_count": 4,
   "metadata": {},
   "outputs": [
    {
     "data": {
      "text/plain": [
       "list"
      ]
     },
     "execution_count": 4,
     "metadata": {},
     "output_type": "execute_result"
    }
   ],
   "source": [
    "type(a)"
   ]
  },
  {
   "cell_type": "code",
   "execution_count": 5,
   "metadata": {},
   "outputs": [
    {
     "data": {
      "text/plain": [
       "'z'"
      ]
     },
     "execution_count": 5,
     "metadata": {},
     "output_type": "execute_result"
    }
   ],
   "source": [
    "keyword='asdq12z'\n",
    "keyword[6]"
   ]
  },
  {
   "cell_type": "code",
   "execution_count": 6,
   "metadata": {},
   "outputs": [],
   "source": [
    "zxc= '12three4'\n",
    "three='3'"
   ]
  },
  {
   "cell_type": "code",
   "execution_count": 7,
   "metadata": {},
   "outputs": [
    {
     "data": {
      "text/plain": [
       "1234"
      ]
     },
     "execution_count": 7,
     "metadata": {},
     "output_type": "execute_result"
    }
   ],
   "source": [
    "int('12'+three+'4')"
   ]
  },
  {
   "cell_type": "code",
   "execution_count": 19,
   "metadata": {},
   "outputs": [],
   "source": [
    "def solution(s):\n",
    "\n",
    "    if 'one' in s:\n",
    "        q= s.replace('one','1')\n",
    "    else: q=s\n",
    "\n",
    "    if 'two' in q:\n",
    "        w= q.replace('two','2')\n",
    "    else: w= q\n",
    "\n",
    "    if 'three' in w:\n",
    "        e= w.replace('three','3')\n",
    "    else: e= w\n",
    "\n",
    "    if 'four' in e:\n",
    "        r= e.replace('four','4')\n",
    "    else: r= e\n",
    "\n",
    "    if 'five' in r:\n",
    "        t= r.replace('five','5')\n",
    "    else: t= r\n",
    "\n",
    "    if 'six' in t:\n",
    "        y= t.replace('six','6')\n",
    "    else: y= t\n",
    "\n",
    "    if 'seven' in y:\n",
    "        u= y.replace('seven','7')\n",
    "    else: u= y\n",
    "\n",
    "    if 'eight' in u:\n",
    "        i= u.replace('eight','8')\n",
    "    else: i= u\n",
    "\n",
    "    if 'nine' in i:\n",
    "        o= i.replace('nine','9')\n",
    "    else: o= i\n",
    "\n",
    "    if 'zero' in o:\n",
    "        p= o.replace('zero','0')\n",
    "    else: p= o\n",
    "    answer = int(p)\n",
    "    return answer"
   ]
  },
  {
   "cell_type": "code",
   "execution_count": 21,
   "metadata": {},
   "outputs": [
    {
     "data": {
      "text/plain": [
       "14178"
      ]
     },
     "execution_count": 21,
     "metadata": {},
     "output_type": "execute_result"
    }
   ],
   "source": [
    "solution('one4oneseveneight')"
   ]
  },
  {
   "cell_type": "code",
   "execution_count": null,
   "metadata": {},
   "outputs": [],
   "source": []
  }
 ],
 "metadata": {
  "kernelspec": {
   "display_name": "Python 3.10.5 64-bit",
   "language": "python",
   "name": "python3"
  },
  "language_info": {
   "codemirror_mode": {
    "name": "ipython",
    "version": 3
   },
   "file_extension": ".py",
   "mimetype": "text/x-python",
   "name": "python",
   "nbconvert_exporter": "python",
   "pygments_lexer": "ipython3",
   "version": "3.10.5"
  },
  "orig_nbformat": 4,
  "vscode": {
   "interpreter": {
    "hash": "26de051ba29f2982a8de78e945f0abaf191376122a1563185a90213a26c5da77"
   }
  }
 },
 "nbformat": 4,
 "nbformat_minor": 2
}
