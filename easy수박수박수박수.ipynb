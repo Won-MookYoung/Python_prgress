{
 "cells": [
  {
   "cell_type": "code",
   "execution_count": null,
   "metadata": {},
   "outputs": [],
   "source": []
  },
  {
   "cell_type": "code",
   "execution_count": null,
   "metadata": {},
   "outputs": [
    {
     "name": "stdout",
     "output_type": "stream",
     "text": [
      "['수']\n",
      "['수', '박']\n",
      "['수', '박', '수']\n",
      "['수', '박', '수', '박']\n",
      "['수', '박', '수', '박', '수']\n",
      "['수', '박', '수', '박', '수', '박']\n",
      "['수', '박', '수', '박', '수', '박', '수']\n",
      "['수', '박', '수', '박', '수', '박', '수', '박']\n",
      "['수', '박', '수', '박', '수', '박', '수', '박', '수']\n",
      "['수', '박', '수', '박', '수', '박', '수', '박', '수', '박']\n",
      "수박수박수박수박수박"
     ]
    }
   ],
   "source": [
    "for i in range(n):\n",
    "    i=i+1\n",
    "    if i %2==1:\n",
    "        answer.append(\"수\")\n",
    "    elif i%2==0:\n",
    "        answer.append(\"박\")\n",
    "    print(answer)\n",
    "for i in answer:\n",
    "    answer1.append(print(i,end=\"\"))"
   ]
  },
  {
   "cell_type": "code",
   "execution_count": null,
   "metadata": {},
   "outputs": [
    {
     "name": "stdout",
     "output_type": "stream",
     "text": [
      "['수']\n",
      "['수', '박']\n",
      "['수', '박', '수']\n",
      "['수', '박', '수', '박']\n",
      "['수', '박', '수', '박', '수']\n",
      "['수', '박', '수', '박', '수', '박']\n",
      "['수', '박', '수', '박', '수', '박', '수']\n",
      "['수', '박', '수', '박', '수', '박', '수', '박']\n",
      "['수', '박', '수', '박', '수', '박', '수', '박', '수']\n",
      "['수', '박', '수', '박', '수', '박', '수', '박', '수', '박']\n",
      "수박수박수박수박수박"
     ]
    }
   ],
   "source": [
    "for i in range(n):\n",
    "    i=i+1\n",
    "    if i %2==1:\n",
    "        answer.append(\"수\")\n",
    "    elif i%2==0:\n",
    "        answer.append(\"박\")\n",
    "    print(answer)\n",
    "for i in answer:\n",
    "    answer1.append(print(i,end=\"\"))"
   ]
  }
 ],
 "metadata": {
  "kernelspec": {
   "display_name": "Python 3.10.5 64-bit",
   "language": "python",
   "name": "python3"
  },
  "language_info": {
   "name": "python",
   "version": "3.10.5"
  },
  "orig_nbformat": 4,
  "vscode": {
   "interpreter": {
    "hash": "26de051ba29f2982a8de78e945f0abaf191376122a1563185a90213a26c5da77"
   }
  }
 },
 "nbformat": 4,
 "nbformat_minor": 2
}
